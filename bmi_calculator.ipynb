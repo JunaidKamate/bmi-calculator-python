{
 "cells": [
  {
   "cell_type": "markdown",
   "id": "df8748d6-ffa4-474e-b813-1ab16f027a5b",
   "metadata": {},
   "source": [
    "BMI Calculator"
   ]
  },
  {
   "cell_type": "code",
   "execution_count": 13,
   "id": "885c8939-d1a5-43fe-99dd-0705d1ac24b2",
   "metadata": {},
   "outputs": [],
   "source": [
    "# BMI = (weight in pounds * 703) / (height in inches * height in inches)"
   ]
  },
  {
   "cell_type": "code",
   "execution_count": 15,
   "id": "7d91c620-4d2b-44af-820c-47a513b3a9d5",
   "metadata": {},
   "outputs": [
    {
     "name": "stdin",
     "output_type": "stream",
     "text": [
      "Enter your name:  Junaid\n",
      "Enter your weight in pounds:  183\n",
      "Enter your height in inches:  71\n"
     ]
    },
    {
     "name": "stdout",
     "output_type": "stream",
     "text": [
      "25.52053164054751\n"
     ]
    }
   ],
   "source": [
    "name = str(input(\"Enter your name: \"))\n",
    "weight = int(input(\"Enter your weight in pounds: \"))\n",
    "height = int(input(\"Enter your height in inches: \"))\n",
    "\n",
    "BMI = (weight * 703)/(height * height)\n",
    "\n",
    "print(BMI)\n"
   ]
  },
  {
   "cell_type": "code",
   "execution_count": 12,
   "id": "a047d8b5-c83f-498b-930d-e711e78a780f",
   "metadata": {},
   "outputs": [],
   "source": [
    "#For reference = IF-Elif_Else"
   ]
  },
  {
   "cell_type": "code",
   "execution_count": 17,
   "id": "a5a8ec8e-b466-449d-892b-916aca8c0b9b",
   "metadata": {},
   "outputs": [
    {
     "name": "stdout",
     "output_type": "stream",
     "text": [
      "Junaid, you are over-weight\n"
     ]
    }
   ],
   "source": [
    "if BMI>0:\n",
    "    if BMI<18.5:\n",
    "        print('Junaid, you are under-weight')\n",
    "    elif BMI<=24.5:\n",
    "        print('Junaid, you are normal-weight')\n",
    "    elif BMI<=29.5:\n",
    "        print('Junaid, you are over-weight')\n",
    "    elif BMI<=34.5:\n",
    "        print('Junaid, you are obese')\n",
    "    elif BMI<=39.5:\n",
    "        print('Junaid, you are severly-obese')\n",
    "    else: ('Junaid, you are morbidly-obese')"
   ]
  },
  {
   "cell_type": "code",
   "execution_count": null,
   "id": "32f0e0d6-66b1-4f68-94fb-b5e70142d504",
   "metadata": {},
   "outputs": [],
   "source": []
  },
  {
   "cell_type": "code",
   "execution_count": null,
   "id": "8bc6f9fc-0a96-46ce-a424-d49e0188a58d",
   "metadata": {},
   "outputs": [],
   "source": []
  },
  {
   "cell_type": "code",
   "execution_count": null,
   "id": "a4c95d1e-9ecd-46a0-879c-27693e11e746",
   "metadata": {},
   "outputs": [],
   "source": []
  },
  {
   "cell_type": "code",
   "execution_count": null,
   "id": "08a4b311-8b9a-4793-ae44-e4a6d2ecede2",
   "metadata": {},
   "outputs": [],
   "source": []
  },
  {
   "cell_type": "code",
   "execution_count": null,
   "id": "726cbbd7-4e89-4f96-be19-7659a8fef6d2",
   "metadata": {},
   "outputs": [],
   "source": []
  },
  {
   "cell_type": "code",
   "execution_count": null,
   "id": "b2fa2805-22f9-4a38-89fb-5592ac4a9722",
   "metadata": {},
   "outputs": [],
   "source": []
  },
  {
   "cell_type": "code",
   "execution_count": null,
   "id": "3fba26be-2ce0-4bd8-b254-b3136d76182d",
   "metadata": {},
   "outputs": [],
   "source": []
  },
  {
   "cell_type": "code",
   "execution_count": null,
   "id": "3742549b-2973-4dea-9e51-64c448fdaaf8",
   "metadata": {},
   "outputs": [],
   "source": []
  },
  {
   "cell_type": "code",
   "execution_count": null,
   "id": "dd39d33a-babc-4965-ba13-b62debda2bf8",
   "metadata": {},
   "outputs": [],
   "source": []
  }
 ],
 "metadata": {
  "kernelspec": {
   "display_name": "Python 3 (ipykernel)",
   "language": "python",
   "name": "python3"
  },
  "language_info": {
   "codemirror_mode": {
    "name": "ipython",
    "version": 3
   },
   "file_extension": ".py",
   "mimetype": "text/x-python",
   "name": "python",
   "nbconvert_exporter": "python",
   "pygments_lexer": "ipython3",
   "version": "3.12.7"
  }
 },
 "nbformat": 4,
 "nbformat_minor": 5
}
